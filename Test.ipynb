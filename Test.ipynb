{
 "cells": [
  {
   "cell_type": "markdown",
   "metadata": {},
   "source": [
    "## Install requirements"
   ]
  },
  {
   "cell_type": "markdown",
   "metadata": {},
   "source": [
    "pip install -r requirements.txt"
   ]
  },
  {
   "cell_type": "code",
   "execution_count": 22,
   "metadata": {},
   "outputs": [],
   "source": [
    "import price_tracker\n",
    "import json\n",
    "import re, ast"
   ]
  },
  {
   "cell_type": "markdown",
   "metadata": {},
   "source": [
    "### Amazon testing"
   ]
  },
  {
   "cell_type": "code",
   "execution_count": 10,
   "metadata": {},
   "outputs": [],
   "source": [
    "item_link = 'https://www.amazon.in/gp/product/B08P4H4D2Y/ref=ox_sc_saved_title_1?smid=A7B41PSBGW6EO&psc=1'\n",
    "desired_price = 700\n",
    "orignal_price = 759"
   ]
  },
  {
   "cell_type": "code",
   "execution_count": 11,
   "metadata": {},
   "outputs": [],
   "source": [
    "soup = price_tracker.get_request_soup(item_link)\n",
    "soup.prettify()\n",
    "price_tracker.save_soup(soup, 'amazon.html')"
   ]
  },
  {
   "cell_type": "code",
   "execution_count": 30,
   "metadata": {},
   "outputs": [
    {
     "output_type": "execute_result",
     "data": {
      "text/plain": [
       "'https://images-na.ssl-images-amazon.com/images/I/81dckp4cQiL._SY450_.jpg'"
      ]
     },
     "metadata": {},
     "execution_count": 30
    }
   ],
   "source": [
    "item_dp = soup.find(id='imgTagWrapperId').find('img')['data-a-dynamic-image']\n",
    "item_dp = list(ast.literal_eval(item_dp).keys())[0]\n",
    "item_dp \n"
   ]
  },
  {
   "cell_type": "code",
   "execution_count": null,
   "metadata": {},
   "outputs": [],
   "source": [
    "item = soup.find(id='productTitle').get_text().strip()\n",
    "item\n",
    "\n",
    "item_dp = soup.find(id='imgTagWrapperId').find('img')['src']\n",
    "item_dp\n",
    "\n",
    "price = soup.find('span', {'id': \"priceblock_ourprice\"}).get_text().replace(',', '').strip().replace(' ', '')\n",
    "checked_price = price_tracker.clean_price(price)\n",
    "checked_price, price\n",
    "\n",
    "brand = soup.find(id='bylineInfo').get_text().split(':')[1].strip()\n",
    "brand"
   ]
  },
  {
   "cell_type": "markdown",
   "metadata": {},
   "source": [
    "### Myntra testing"
   ]
  },
  {
   "cell_type": "code",
   "execution_count": null,
   "metadata": {},
   "outputs": [],
   "source": [
    "item_link = 'https://www.myntra.com/1852066'\n",
    "desired_price = 700\n",
    "orignal_price = 759"
   ]
  },
  {
   "cell_type": "code",
   "execution_count": null,
   "metadata": {},
   "outputs": [],
   "source": [
    "soup = price_tracker.get_request_soup(item_link)\n",
    "soup.prettify()\n",
    "# Get the JSON block in the page having price details\n",
    "block = soup.findAll('script', {'type': 'application/ld+json'})[1]\n",
    "block"
   ]
  },
  {
   "cell_type": "code",
   "execution_count": null,
   "metadata": {},
   "outputs": [],
   "source": [
    "json_value = price_tracker.get_tag_json(block)\n",
    "item, dp_link, price, brand = json_value[\"name\"], json_value['image'], json_value[\"offers\"][\"price\"], json_value[\"brand\"][\"name\"]\n",
    "price, price_tracker.clean_price(price)"
   ]
  },
  {
   "cell_type": "code",
   "execution_count": null,
   "metadata": {},
   "outputs": [],
   "source": [
    "re.sub('[^0-9\\.]', '', price)"
   ]
  },
  {
   "cell_type": "markdown",
   "metadata": {},
   "source": [
    "### Decathlon"
   ]
  },
  {
   "cell_type": "code",
   "execution_count": null,
   "metadata": {},
   "outputs": [],
   "source": [
    "item_link = 'https://www.decathlon.in/p/8388642/gym-wear-for-men/men-s-gym-t-shirt-regular-fit-sportee-100-black'\n",
    "desired_price = 129\n",
    "orignal_price = 120"
   ]
  },
  {
   "cell_type": "code",
   "execution_count": null,
   "metadata": {},
   "outputs": [],
   "source": [
    "soup = price_tracker.get_request_soup(item_link)\n",
    "soup.prettify()\n",
    "block = soup.body.find('span', {'class':'price_tag'})\n",
    "price = block.get_text()\n",
    "# blocks = soup.body.find(id='__next').findAll('script', {'type': 'application/ld+json'})\n",
    "# Get the JSON block in the page having price details\n",
    "# item = soup.find(id='product_title').get_text().strip()\n",
    "# price = soup.find('div', {'class': 'product-price'}).get_text().replace(',', '').strip().replace(' ', '')\n",
    "# brand = soup.find('span', {'class': 'mtitle'}).get_text().strip().replace(' ', '')"
   ]
  },
  {
   "cell_type": "code",
   "execution_count": null,
   "metadata": {},
   "outputs": [],
   "source": [
    "price='@123.34'\n",
    "re.sub('[^0-9\\.]', '', price)"
   ]
  },
  {
   "cell_type": "code",
   "execution_count": null,
   "metadata": {},
   "outputs": [],
   "source": [
    "blocks[1]"
   ]
  },
  {
   "cell_type": "code",
   "execution_count": null,
   "metadata": {},
   "outputs": [],
   "source": [
    "# json_value = price_tracker.get_tag_json(blocks[0])\n",
    "# json_value, json_value['itemListElement'][0]['name']\n",
    "json_value = price_tracker.get_tag_json(blocks[1])\n",
    "json_value"
   ]
  },
  {
   "cell_type": "code",
   "execution_count": null,
   "metadata": {},
   "outputs": [],
   "source": [
    "json_value['name'], json_value['image'][0], json_value['brand']['name']"
   ]
  },
  {
   "cell_type": "markdown",
   "metadata": {},
   "source": [
    "### Flipkart"
   ]
  },
  {
   "cell_type": "code",
   "execution_count": null,
   "metadata": {},
   "outputs": [],
   "source": [
    "import ast"
   ]
  },
  {
   "cell_type": "code",
   "execution_count": null,
   "metadata": {},
   "outputs": [],
   "source": [
    "item_link = 'https://www.flipkart.com/asian-fitch-men-striped-casual-pink-shirt/p/itm7fb6b47259db5?pid=SHTFUC3FHPBM2NQZ&lid=LSTSHTFUC3FHPBM2NQZI3NC18&marketplace=FLIPKART&store=clo%2Fash&srno=b_1_1&otracker=browse&fm=organic&iid=en_kpTYYGUvACcxBoG84t1nNVR7GcW4ZBOBnM7qLpNOQjak4Xx2NLdOkkiYUp%2B1acwAhzGCbLnSLXyRG9lXwcH8%2FA%3D%3D&ppt=browse&ppn=browse&ssid=g8skrwky0w0000001615746304807'\n",
    "desired_price = 400\n",
    "orignal_price = 424"
   ]
  },
  {
   "cell_type": "code",
   "execution_count": null,
   "metadata": {},
   "outputs": [],
   "source": [
    "soup = price_tracker.get_request_soup(item_link)\n",
    "soup.prettify()\n",
    "blocks = ast.literal_eval(soup.find(id='jsonLD').decode_contents())\n",
    "blocks"
   ]
  },
  {
   "cell_type": "code",
   "execution_count": null,
   "metadata": {},
   "outputs": [],
   "source": [
    "blocks[0]"
   ]
  },
  {
   "cell_type": "code",
   "execution_count": null,
   "metadata": {},
   "outputs": [],
   "source": [
    "blocks[0]['brand']['name'], blocks[0]['image'], blocks[0]['name'] \n",
    "# json_value = price_tracker.get_tag_json(blocks[0])\n",
    "# json_value['brand']['name']"
   ]
  },
  {
   "cell_type": "code",
   "execution_count": null,
   "metadata": {},
   "outputs": [],
   "source": [
    "text = soup.get_text()\n",
    "start = text.find('price')\n",
    "# end = text.find('<',395)\n",
    "text[start:]"
   ]
  },
  {
   "cell_type": "markdown",
   "metadata": {},
   "source": [
    "### Ajio"
   ]
  },
  {
   "cell_type": "code",
   "execution_count": null,
   "metadata": {},
   "outputs": [],
   "source": [
    "item_link = 'https://www.decathlon.in/p/8388642/gym-wear-for-men/men-s-gym-t-shirt-regular-fit-sportee-100-black'\n",
    "desired_price = 129\n",
    "orignal_price = 120"
   ]
  },
  {
   "cell_type": "code",
   "execution_count": null,
   "metadata": {},
   "outputs": [],
   "source": [
    "print(f\"Item Name : {item_name} | Price : {checked_price}\")"
   ]
  },
  {
   "cell_type": "code",
   "execution_count": null,
   "metadata": {},
   "outputs": [],
   "source": []
  }
 ],
 "metadata": {
  "kernelspec": {
   "display_name": "Python 3",
   "language": "python",
   "name": "python3"
  },
  "language_info": {
   "codemirror_mode": {
    "name": "ipython",
    "version": 3
   },
   "file_extension": ".py",
   "mimetype": "text/x-python",
   "name": "python",
   "nbconvert_exporter": "python",
   "pygments_lexer": "ipython3",
   "version": "3.7.3-final"
  }
 },
 "nbformat": 4,
 "nbformat_minor": 2
}